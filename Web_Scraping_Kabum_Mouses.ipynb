{
 "cells": [
  {
   "cell_type": "code",
   "execution_count": 1,
   "metadata": {},
   "outputs": [],
   "source": [
    "# IMPORTANDO BIBLIOTECAS ######################################################\n",
    "from selenium import webdriver\n",
    "from selenium.webdriver.common.keys import Keys\n",
    "#from selenium.webdriver.chrome.options import options\n",
    "from bs4 import BeautifulSoup as soup\n",
    "from urllib.request import urlopen as uReq\n",
    "from email.mime.multipart import MIMEMultipart\n",
    "from email.mime.text import MIMEText\n",
    "import smtplib\n",
    "import pandas as pd\n",
    "import time"
   ]
  },
  {
   "cell_type": "code",
   "execution_count": 2,
   "metadata": {},
   "outputs": [
    {
     "name": "stdout",
     "output_type": "stream",
     "text": [
      "<http.client.HTTPResponse object at 0x000002D2DF1559B0>\n"
     ]
    }
   ],
   "source": [
    "#SELENIUM PARA FAZER A BUSCA E RETORNAR URL\n",
    "driver = webdriver.Chrome()\n",
    "driver.get('https://www.kabum.com.br/?gclid=Cj0KCQjw1MXpBRDjARIsAHtdN-1IkdM4Hb1NfHnwn5HyT8-OEfIesI267ML9mlmpPoLEBHC5rYuulx4aAvJ3EALw_wcB')\n",
    "time.sleep(2)\n",
    "search = driver.find_element_by_class_name(\"sprocura\")\n",
    "search.send_keys(\"mouse gamer\")\n",
    "search.send_keys(Keys.RETURN)\n",
    "time.sleep(1)\n",
    "Site = driver.current_url\n",
    "time.sleep(5)\n",
    "driver.stop_client()\n",
    "driver.close()\n",
    "driver.quit()\n",
    "\n",
    "#usando BS4 para ler o HTML\n",
    "uClient=uReq(Site)\n",
    "print(uClient)\n",
    "page_html = uClient.read()\n",
    "page_soup = soup(page_html,'html.parser')\n",
    "pegar_preco = page_soup.findAll('div',{'class':'listagem-precoavista'})\n",
    "pegar_nome = page_soup.findAll('h2',{'class':'H-titulo'})\n"
   ]
  },
  {
   "cell_type": "code",
   "execution_count": 3,
   "metadata": {},
   "outputs": [
    {
     "name": "stdout",
     "output_type": "stream",
     "text": [
      " 249.29 - Mouse Gamer Logitech G403 RGB Lightsync 12000DPI - https://www.kabum.com.br/produto/84008/mouse-gamer-logitech-g403-rgb-lightsync-12000dpi/?tag=mouse%20gamer\n",
      " 117.53 - Mouse Gamer Redragon 10000DPI Chroma Cobra M711 - https://www.kabum.com.br/produto/94555/mouse-gamer-redragon-10000dpi-chroma-cobra-m711/?tag=mouse%20gamer\n",
      " 69.29 - Mousepad Gamer Logitech G240, Pequeno (280x340mm) - https://www.kabum.com.br/produto/49604/mousepad-gamer-logitech-g240-pequeno-280x340mm-/?tag=mouse%20gamer\n",
      " 119.90 - Mouse Gamer Corsair 6000DPI RGB 6 Botões Preto Harpoon - CH-9301011 - https://www.kabum.com.br/produto/85648/mouse-gamer-corsair-6000dpi-rgb-6-botoes-preto-harpoon-ch-9301011/?tag=mouse%20gamer\n",
      " 211.65 - Mouse Gamer Logitech G PRO HERO 16K RGB Lightsync 16000DPI - 910-005536 - https://www.kabum.com.br/produto/98207/mouse-gamer-logitech-g-pro-hero-16k-rgb-lightsync-16000dpi-910-005536/?tag=mouse%20gamer\n",
      " 35.18 - Mousepad Gamer Havit Control, Extra Grande (900x300mm) - HV-MP830 - https://www.kabum.com.br/produto/91161/mousepad-gamer-havit-control-extra-grande-900x300mm-hv-mp830/?tag=mouse%20gamer\n",
      " 12.82 - Mousepad Gamer Fortrek MPG101, Speed, Médio (320x240mm) - 62932 - https://www.kabum.com.br/produto/92983/mousepad-gamer-fortrek-mpg101-speed-medio-320x240mm-62932/?tag=mouse%20gamer\n",
      " 94.00 - Mousepad Gamer Logitech G640, Speed, Grande (400x460mm) - https://www.kabum.com.br/produto/79279/mousepad-gamer-logitech-g640-speed-grande-400x460mm-/?tag=mouse%20gamer\n",
      " 21.06 - Mousepad Gamer Fortrek MPG102, Speed, Grande (440x350mm) - 62933 - https://www.kabum.com.br/produto/92982/mousepad-gamer-fortrek-mpg102-speed-grande-440x350mm-62933/?tag=mouse%20gamer\n",
      " 68.12 - Mousepad Gamer Redragon Aquarius, Speed, Extra Grande (930x300mm) - P015 - https://www.kabum.com.br/produto/98584/mousepad-gamer-redragon-aquarius-speed-extra-grande-930x300mm-p015/?tag=mouse%20gamer\n",
      " 41.06 - Mousepad Gamer Corsair MM100, Speed, Pequeno (320x270mm) - CH-9100020 - https://www.kabum.com.br/produto/92287/mousepad-gamer-corsair-mm100-speed-pequeno-320x270mm-ch-9100020/?tag=mouse%20gamer\n",
      " 154.00 - Teclado e Mouse Gamer Multilaser Lightning ABNT2 Preto com LED - TC195 - https://www.kabum.com.br/produto/64038/teclado-e-mouse-gamer-multilaser-lightning-abnt2-preto-com-led-tc195/?tag=mouse%20gamer\n",
      " 149.90 - Mouse Gamer HyperX Pulsefire Core RGB 6200 DPI - HX-MC004B - https://www.kabum.com.br/produto/98696/mouse-gamer-hyperx-pulsefire-core-rgb-6200-dpi-hx-mc004b/?tag=mouse%20gamer\n",
      " 152.82 - Mouse Gamer Logitech G203 Prodigy RGB 8000DPI - https://www.kabum.com.br/produto/86864/mouse-gamer-logitech-g203-prodigy-rgb-8000dpi/?tag=mouse%20gamer\n",
      " 249.90 - Mouse Gamer HyperX Pulsefire Surge RGB 16000 DPI - HX-MC002B  - https://www.kabum.com.br/produto/95566/mouse-gamer-hyperx-pulsefire-surge-rgb-16000-dpi-hx-mc002b-/?tag=mouse%20gamer\n",
      " 129.29 - Mousepad Gamer HyperX Fury S Speed, Grande (450x400mm) - HX-MPFS-S-L - https://www.kabum.com.br/produto/98069/mousepad-gamer-hyperx-fury-s-speed-grande-450x400mm-hx-mpfs-s-l/?tag=mouse%20gamer\n",
      " 94.00 - Mousepad Gamer HyperX Fury S, Control, Médio (360x300mm) - HX-MPFS-M - https://www.kabum.com.br/produto/91743/mousepad-gamer-hyperx-fury-s-control-medio-360x300mm-hx-mpfs-m/?tag=mouse%20gamer\n",
      " 223.41 - Mouse Gamer Razer Deathadder 3 Colors, LED, 3500DPI - https://www.kabum.com.br/produto/75294/mouse-gamer-razer-deathadder-3-colors-led-3500dpi/?tag=mouse%20gamer\n",
      " 199.88 - Mousepad Gamer Logitech G840, Extra Grande (900x400mm) - https://www.kabum.com.br/produto/97988/mousepad-gamer-logitech-g840-extra-grande-900x400mm-/?tag=mouse%20gamer\n",
      " 159.88 - Mousepad Gamer HyperX Fury S Speed, Extra Grande (900x420mm) - HX-MPFS-S-XL - https://www.kabum.com.br/produto/98070/mousepad-gamer-hyperx-fury-s-speed-extra-grande-900x420mm-hx-mpfs-s-xl/?tag=mouse%20gamer\n",
      " 188.78 - Mouse Gamer HyperX Pulsefire FPS 3200dpi - HX-MC001A/AM - https://www.kabum.com.br/produto/89334/mouse-gamer-hyperx-pulsefire-fps-3200dpi-hx-mc001a-am/?tag=mouse%20gamer\n",
      " 219.90 - Mouse Gamer HyperX Pulsefire FPS PRO RGB 16000dpi - HX-MC003B - https://www.kabum.com.br/produto/97700/mouse-gamer-hyperx-pulsefire-fps-pro-rgb-16000dpi-hx-mc003b/?tag=mouse%20gamer\n",
      " 399.89 - Mouse Gamer Logitech G600 MMO, RGB, 20 Botões, 8200DPI - https://www.kabum.com.br/produto/36686/mouse-gamer-logitech-g600-mmo-rgb-20-botoes-8200dpi/?tag=mouse%20gamer\n",
      " 199.88 - Mouse Gamer Warrior 4000DPI 18 botões Preto com LED - MO206 - https://www.kabum.com.br/produto/60199/mouse-gamer-warrior-4000dpi-18-botoes-preto-com-led-mo206/?tag=mouse%20gamer\n",
      " 349.29 - Mouse Gamer Logitech G502 HERO 16K RGB Lightsync 16000DPI - 910-005550 - https://www.kabum.com.br/produto/98244/mouse-gamer-logitech-g502-hero-16k-rgb-lightsync-16000dpi-910-005550/?tag=mouse%20gamer\n",
      " 9.90 - Mousepad Gamer Nox Krom Knout, Speed, Médio (320x270mm) Laranja com Costura Preta - NXKROMKNTSPDBO - https://www.kabum.com.br/produto/95054/mousepad-gamer-nox-krom-knout-speed-medio-320x270mm-laranja-com-costura-preta-nxkromkntspdbo/?tag=mouse%20gamer\n",
      " 466.94 - Teclado e Mouse Gamer Corsair RGB ABNT2 Harpoon e K55 - CH-9206115-BR - https://www.kabum.com.br/produto/93760/teclado-e-mouse-gamer-corsair-rgb-abnt2-harpoon-e-k55-ch-9206115-br/?tag=mouse%20gamer\n",
      " 117.53 - Mousepad Gamer HyperX Fury S, Control, Grande (450x400mm) - HX-MPFS-L - https://www.kabum.com.br/produto/91744/mousepad-gamer-hyperx-fury-s-control-grande-450x400mm-hx-mpfs-l/?tag=mouse%20gamer\n",
      " 159.88 - Mousepad Gamer HyperX Fury S, Control, Extra Grande (900x420mm) - HX-MPFS-XL - https://www.kabum.com.br/produto/91745/mousepad-gamer-hyperx-fury-s-control-extra-grande-900x420mm-hx-mpfs-xl/?tag=mouse%20gamer\n",
      " 57.53 - Mouse Bungee Gamer GFallen Preto - https://www.kabum.com.br/produto/95480/mouse-bungee-gamer-gfallen-preto/?tag=mouse%20gamer\n"
     ]
    }
   ],
   "source": [
    "#concatenando preços nomes e url dos Mouses\n",
    "mouses_precos=[]\n",
    "mouses_Nomes=[]\n",
    "mouses_URL=[]\n",
    "\n",
    "for a in range(0,len(pegar_preco)):\n",
    "    preco=pegar_preco[a]\n",
    "    nome=pegar_nome[a]\n",
    "    valor=str(preco).replace(',','.') #valor do mouse\n",
    "    name=str(nome).split(\">\") #nome do mouse\n",
    "    link=name[1].split('\"') # link para acesso\n",
    "    oferta = str(valor)[39:-10]+' - '+str(name[2])[:-3]+' - '+link[3]\n",
    "    print(oferta)\n",
    "    mouses_precos.append(oferta)\n",
    "    '''mouses_precos.append(str(valor)[39:-10])\n",
    "    mouses_Nomes.append(str(name[2])[:-3])\n",
    "    mouses_URL.append(link[3])\n",
    "    #print(name[1].split('\"'))'''"
   ]
  },
  {
   "cell_type": "code",
   "execution_count": 7,
   "metadata": {},
   "outputs": [
    {
     "name": "stdout",
     "output_type": "stream",
     "text": [
      "domfilhops2@gmail.com\n",
      "successfully sent email to domfilhops2@gmail.com\n",
      "nayarahelem1904@gmail.com\n",
      "successfully sent email to nayarahelem1904@gmail.com\n",
      "ericaurifort@hotmail.com\n",
      "successfully sent email to ericaurifort@hotmail.com\n",
      "pedroarthur0511@gmail.com\n",
      "kitei do server !!\n",
      "successfully sent email to pedroarthur0511@gmail.com\n"
     ]
    }
   ],
   "source": [
    "msg = MIMEMultipart()\n",
    "message = 'Fala seus Fela!\\n Segue lista de mouses para compra : \\n' + str(mouses_precos) +'\\n ASS,José'\n",
    "\n",
    "\n",
    "#lista de email que vão receber a comunicação\n",
    "recipients=['domfilhops2@gmail.com','nayarahelem1904@gmail.com','ericaurifort@hotmail.com','pedroarthur0511@gmail.com']\n",
    "for n in range(0,len(recipients)):\n",
    "    password = \"Senha_do_seu_email\"\n",
    "    msg['From'] = \"Seu_Email\"\n",
    "    msg['To'] = str(recipients[n])\n",
    "    print(str(recipients[n]))\n",
    "    msg['Subject'] = \"Preços Mouses Kabum - Corre Safado\"\n",
    "    # mensagem no corpo do email\n",
    "    msg.attach(MIMEText(message, 'plain'))\n",
    "    #criando o server\n",
    "    server = smtplib.SMTP('smtp.gmail.com: 587')\n",
    "    server.starttls()\n",
    "    # logando nas credenciais de envio do email\n",
    "    server.login(msg['From'], password)\n",
    "    \n",
    "    # enviando a msg pelo server.\n",
    "    server.sendmail(msg['From'],str(recipients[n]), msg.as_string())\n",
    "    if (n == (len(recipients)-1)):\n",
    "        server.quit()\n",
    "        print('kitei do server !!')\n",
    "    print (\"successfully sent email to %s\" % (str(recipients[n]))) "
   ]
  },
  {
   "cell_type": "code",
   "execution_count": null,
   "metadata": {},
   "outputs": [],
   "source": []
  }
 ],
 "metadata": {
  "kernelspec": {
   "display_name": "Python 3",
   "language": "python",
   "name": "python3"
  },
  "language_info": {
   "codemirror_mode": {
    "name": "ipython",
    "version": 3
   },
   "file_extension": ".py",
   "mimetype": "text/x-python",
   "name": "python",
   "nbconvert_exporter": "python",
   "pygments_lexer": "ipython3",
   "version": "3.7.3"
  }
 },
 "nbformat": 4,
 "nbformat_minor": 2
}
